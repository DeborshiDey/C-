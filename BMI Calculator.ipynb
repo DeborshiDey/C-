{
 "cells": [
  {
   "cell_type": "code",
   "execution_count": 1,
   "id": "95f4fb74",
   "metadata": {},
   "outputs": [
    {
     "name": "stdout",
     "output_type": "stream",
     "text": [
      "Enter your name: Deborshi Dey\n",
      "Enter your weight in kilograms: 54\n",
      "Enter your height in feet: 5\n",
      "Enter the remaining inches: 4\n",
      "BMI: 20.434611181722364\n",
      "Deborshi Dey, You are normal weight.\n"
     ]
    }
   ],
   "source": [
    "name = input(\"Enter your name: \")\n",
    "\n",
    "weight = float(input(\"Enter your weight in kilograms: \"))\n",
    "\n",
    "feet = int(input(\"Enter your height in feet: \"))\n",
    "inches = float(input(\"Enter the remaining inches: \"))\n",
    "\n",
    "# Convert height to meters for BMI calculation\n",
    "height_meters = (feet * 0.3048) + (inches * 0.0254)\n",
    "\n",
    "BMI = weight / (height_meters ** 2)\n",
    "\n",
    "print(\"BMI:\", BMI)\n",
    "\n",
    "if BMI > 0:\n",
    "\n",
    "    if BMI < 18.5:\n",
    "        print(name + \", You are underweight.\")\n",
    "    elif BMI <= 24.9:\n",
    "        print(name + \", You are normal weight.\")\n",
    "    elif BMI < 29.9:\n",
    "        print(name + \", You are overweight.\")\n",
    "    elif BMI < 34.9:\n",
    "        print(name + \", You are obese.\")\n",
    "    elif BMI < 39.9:\n",
    "        print(name + \", You are severely obese.\")\n",
    "    else:\n",
    "        print(name + \", You are morbidly obese.\")\n",
    "\n",
    "else:\n",
    "    print(\"Enter valid input\")"
   ]
  },
  {
   "cell_type": "code",
   "execution_count": null,
   "id": "427782be",
   "metadata": {},
   "outputs": [],
   "source": []
  }
 ],
 "metadata": {
  "kernelspec": {
   "display_name": "Python 3 (ipykernel)",
   "language": "python",
   "name": "python3"
  },
  "language_info": {
   "codemirror_mode": {
    "name": "ipython",
    "version": 3
   },
   "file_extension": ".py",
   "mimetype": "text/x-python",
   "name": "python",
   "nbconvert_exporter": "python",
   "pygments_lexer": "ipython3",
   "version": "3.11.5"
  }
 },
 "nbformat": 4,
 "nbformat_minor": 5
}
